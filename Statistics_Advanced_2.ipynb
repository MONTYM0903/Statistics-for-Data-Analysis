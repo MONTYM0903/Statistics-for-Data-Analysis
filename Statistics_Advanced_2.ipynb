{
  "nbformat": 4,
  "nbformat_minor": 0,
  "metadata": {
    "colab": {
      "provenance": []
    },
    "kernelspec": {
      "name": "python3",
      "display_name": "Python 3"
    },
    "language_info": {
      "name": "python"
    }
  },
  "cells": [
    {
      "cell_type": "markdown",
      "source": [
        "**Question 1: What is hypothesis testing in statistics?**"
      ],
      "metadata": {
        "id": "ImB4lz5ySxLC"
      }
    },
    {
      "cell_type": "markdown",
      "source": [
        "ANSWER:-\n",
        "\n",
        "Hypothesis testing is a way to check if what we believe about some data is actually true or not. In simple words, it helps us decide if the results we see are just by chance or if they actually mean something. The idea is to start with an assumption, which is called the null hypothesis. This usually says there is no effect or no difference. Then, we collect data and test it to see if we can reject this assumption in favor of the alternative hypothesis, which says that there is some effect or difference.\n",
        "\n",
        "**For example, suppose a teacher thinks that the average score of students in her class is 50. To check this, she takes a sample of student marks and applies hypothesis testing. If the average of the sample is very different from 50, she may reject the null hypothesis and say that the average is not 50. But if the difference is small, she will keep the null hypothesis.**\n",
        "\n",
        "Another example is when a company says that their chocolate bar weighs 100 grams. If we take a few bars and weigh them, we can use hypothesis testing to check if the average weight is actually 100 grams or not.\n",
        "\n",
        "In simple terms, hypothesis testing is like a court trial. The null hypothesis is \"innocent until proven guilty,\" and we need strong evidence (data) to reject it. If the evidence is weak, we keep the null hypothesis. This way, hypothesis testing avoids making random guesses and gives us a systematic way to make decisions about data."
      ],
      "metadata": {
        "id": "NPXJhs-e3OWg"
      }
    },
    {
      "cell_type": "markdown",
      "source": [
        "**Question 2: What is the null hypothesis, and how does it differ from the alternative hypothesis ?**"
      ],
      "metadata": {
        "id": "wXrssxJAd1s3"
      }
    },
    {
      "cell_type": "markdown",
      "source": [
        "ANSWER:-\n",
        "\n",
        "The null hypothesis (H₀) is the starting point in hypothesis testing. It assumes that there is no difference, no effect, or nothing unusual happening in the data. It is like the “default” assumption we test against. On the other hand, the alternative hypothesis (H₁ or Ha) is what we are trying to prove. It suggests that there is some difference, effect, or change.\n",
        "\n",
        "**For example, imagine a medicine company says their new pill reduces blood pressure. The null hypothesis would be: “The pill has no effect on blood pressure.” The alternative hypothesis would be: “The pill reduces blood pressure.” When we collect patient data, we test whether the results are strong enough to reject the null hypothesis in favor of the alternative.**\n",
        "\n",
        "The main difference is that the null hypothesis assumes no change, while the alternative hypothesis assumes there is a change. The null hypothesis is like saying, “Things are normal,” while the alternative says, “Something is different.”\n",
        "\n",
        "Another example is tossing a coin. If someone claims the coin is fair, the null hypothesis is: “The coin gives heads and tails equally.” The alternative hypothesis could be: “The coin is biased towards heads.” We can toss the coin many times and check if the results support or reject the null hypothesis.\n",
        "\n",
        "In short, the null hypothesis is the assumption of no effect, and the alternative hypothesis is the claim that there is an effect. Hypothesis testing is all about checking which one the data supports more."
      ],
      "metadata": {
        "id": "EzqbwWyH3bPK"
      }
    },
    {
      "cell_type": "markdown",
      "source": [
        "**Question 3: Explain the significance level in hypothesis testing and its role in deciding the outcome of a test ?**"
      ],
      "metadata": {
        "id": "5RxYzaJzkaHn"
      }
    },
    {
      "cell_type": "markdown",
      "source": [
        "ANSWER:-\n",
        "The significance level, usually written as α (alpha), is a threshold we set in hypothesis testing to decide when to reject the null hypothesis. It represents the probability of making a mistake by rejecting the null when it is actually true. Common values are 0.05 (5%) or 0.01 (1%).\n",
        "\n",
        "For example, if α = 0.05, it means we are willing to accept a 5% chance of being wrong when we reject the null hypothesis. In simple words, if the probability of getting our data under the null hypothesis is less than 5%, we say the result is “statistically significant” and reject the null.\n",
        "\n",
        "Think of it like a filter. If the test result (p-value) is smaller than α, then the evidence is strong enough to reject the null. But if the p-value is bigger, then the evidence is not enough, and we keep the null hypothesis.\n",
        "\n",
        "**For example, suppose a company claims that their bulb lasts 1000 hours. We test some bulbs and get a p-value of 0.03. If α = 0.05, then 0.03 < 0.05, so we reject the null and say the bulbs do not last 1000 hours on average. But if α = 0.01, then 0.03 > 0.01, so we do not reject the null.**\n",
        "\n",
        "In short, the significance level decides how strict we want to be in testing. A smaller α means we want very strong evidence to reject the null, while a larger α means we are okay with weaker evidence."
      ],
      "metadata": {
        "id": "lEcatLes6mP3"
      }
    },
    {
      "cell_type": "markdown",
      "source": [
        "**Question 4: What are Type I and Type II errors? Give examples of each ?**"
      ],
      "metadata": {
        "id": "6qejkOVvkigl"
      }
    },
    {
      "cell_type": "markdown",
      "source": [
        "ANSWER:-\n",
        "\n",
        "In hypothesis testing, we can sometimes make mistakes because we are working with samples, not the whole population. These mistakes are called Type I and Type II errors.\n",
        "\n",
        "Type I error happens when we reject the null hypothesis even though it is actually true. In other words, we see an effect that is not real. This is also called a “false positive.” For example, if a test wrongly shows that a healthy person has a disease, that’s a Type I error. Another example is if a judge declares an innocent person guilty. We said something is happening when in reality it is not.\n",
        "\n",
        "Type II error happens when we fail to reject the null hypothesis even though it is false. This is also called a “false negative.” For example, if a medical test says a sick person is healthy, that’s a Type II error. Or, in court, if a guilty person is declared innocent, it’s a Type II error. Here, we fail to see something that is actually happening.\n",
        "\n",
        "To make it simple:\n",
        "\n",
        "**Type I error = rejecting truth.**\n",
        "\n",
        "**Type II error = accepting falsehood.**\n",
        "\n",
        "For instance, imagine a company says their average soda can is 330 ml. We test some cans:\n",
        "\n",
        "If the average is truly 330 ml but we conclude it is not, that’s a Type I error.\n",
        "\n",
        "If the average is actually 310 ml but we conclude it is 330 ml, that’s a Type II error.\n",
        "\n",
        "Both errors are possible, but usually, we set the significance level (α) to control Type I errors."
      ],
      "metadata": {
        "id": "ORjG7nch6xKQ"
      }
    },
    {
      "cell_type": "markdown",
      "source": [
        "**Question 5: What is the difference between a Z-test and a T-test? Explain when to use each ?**"
      ],
      "metadata": {
        "id": "NII-xBkBknak"
      }
    },
    {
      "cell_type": "markdown",
      "source": [
        "ANSWER:-\n",
        "\n",
        "A Z-test and a T-test are both methods to check if there is a difference between sample data and the population or between two samples. They look similar but are used in different situations.\n",
        "\n",
        "The Z-test is used when the population standard deviation is known and the sample size is large (usually more than 30). It is based on the normal distribution. For example, if a factory knows the standard deviation of its machine’s output, it can use the Z-test to check if the average output is correct.\n",
        "\n",
        "The T-test is used when the population standard deviation is not known and the sample size is small (less than 30). It uses the t-distribution, which has heavier tails than the normal distribution. This makes it better for small samples because it accounts for more uncertainty. For example, if a teacher has the marks of only 15 students and wants to test if the average is 50, she would use a T-test.\n",
        "\n",
        "To make it simple:\n",
        "\n",
        "**Z-test → large sample, standard deviation known.**\n",
        "\n",
        "**T-test → small sample, standard deviation unknown.**\n",
        "\n",
        "For example:\n",
        "\n",
        "Suppose we want to test if the average height of students is 160 cm. If we already know the population standard deviation (say 10 cm) and we have 100 students, we use a Z-test.\n",
        "\n",
        "But if we only have 20 students and don’t know the population standard deviation, we use a T-test.\n",
        "\n",
        "So the main difference is about sample size and whether we know the population standard deviation."
      ],
      "metadata": {
        "id": "kanCluGk7nAV"
      }
    },
    {
      "cell_type": "markdown",
      "source": [
        "**Question 6: Write a Python program to generate a binomial distribution with n=10 and p=0.5, then plot its histogram. (Include your Python code and output in the code box below.) Hint: Generate random number using random function.**"
      ],
      "metadata": {
        "id": "hi0QzhKLkqfX"
      }
    },
    {
      "cell_type": "code",
      "source": [
        "import numpy as np\n",
        "import matplotlib.pyplot as plt\n",
        "\n",
        "# Parameters\n",
        "n = 10   # number of trials\n",
        "p = 0.5  # probability of success\n",
        "size = 1000  # number of samples\n",
        "\n",
        "# Generate binomial distribution\n",
        "data = np.random.binomial(n, p, size)\n",
        "\n",
        "# Plot histogram\n",
        "plt.hist(data, bins=range(n+2), edgecolor='black', align='left')\n",
        "plt.title(\"Binomial Distribution (n=10, p=0.5)\")\n",
        "plt.xlabel(\"Number of Successes\")\n",
        "plt.ylabel(\"Frequency\")\n",
        "plt.show()\n"
      ],
      "metadata": {
        "colab": {
          "base_uri": "https://localhost:8080/",
          "height": 472
        },
        "id": "k1v3jGoA76WI",
        "outputId": "29c42748-aeb4-4a49-a04c-fca03a18d7a1"
      },
      "execution_count": 1,
      "outputs": [
        {
          "output_type": "display_data",
          "data": {
            "text/plain": [
              "<Figure size 640x480 with 1 Axes>"
            ],
            "image/png": "[encoded data removed]"
          },
          "metadata": {}
        }
      ]
    },
    {
      "cell_type": "markdown",
      "source": [
        "**This code generates 1000 random outcomes of a binomial distribution with 10 trials and a probability of 0.5 for success. The histogram shows how often each number of successes occurs.**"
      ],
      "metadata": {
        "id": "OMPAmu1_8DNV"
      }
    },
    {
      "cell_type": "markdown",
      "source": [
        "**Question 7: Implement hypothesis testing using Z-statistics for a sample dataset in Python. Show the Python code and interpret the results. sample_data = [49.1, 50.2, 51.0, 48.7, 50.5, 49.8, 50.3, 50.7, 50.2, 49.6, 50.1, 49.9, 50.8, 50.4, 48.9, 50.6, 50.0, 49.7, 50.2, 49.5, 50.1, 50.3, 50.4, 50.5, 50.0, 50.7, 49.3, 49.8, 50.2, 50.9, 50.3, 50.4, 50.0, 49.7, 50.5, 49.9].**"
      ],
      "metadata": {
        "id": "0SPyksOdks9x"
      }
    },
    {
      "cell_type": "code",
      "source": [
        "import numpy as np\n",
        "from scipy import stats\n",
        "\n",
        "# Sample data\n",
        "sample_data = [49.1, 50.2, 51.0, 48.7, 50.5, 49.8, 50.3, 50.7, 50.2, 49.6,\n",
        "               50.1, 49.9, 50.8, 50.4, 48.9, 50.6, 50.0, 49.7, 50.2, 49.5,\n",
        "               50.1, 50.3, 50.4, 50.5, 50.0, 50.7, 49.3, 49.8, 50.2, 50.9,\n",
        "               50.3, 50.4, 50.0, 49.7, 50.5, 49.9]\n",
        "\n",
        "# Convert to array\n",
        "data = np.array(sample_data)\n",
        "\n",
        "# Hypothesis: mean = 50\n",
        "pop_mean = 50\n",
        "sample_mean = np.mean(data)\n",
        "sample_std = np.std(data, ddof=1)\n",
        "n = len(data)\n",
        "\n",
        "# Calculate Z-statistic\n",
        "z = (sample_mean - pop_mean) / (sample_std / np.sqrt(n))\n",
        "\n",
        "# p-value\n",
        "p_value = 2 * (1 - stats.norm.cdf(abs(z)))\n",
        "\n",
        "print(\"Sample Mean:\", sample_mean)\n",
        "print(\"Z-statistic:\", z)\n",
        "print(\"p-value:\", p_value)\n"
      ],
      "metadata": {
        "colab": {
          "base_uri": "https://localhost:8080/"
        },
        "id": "Im5MUHkl8KBh",
        "outputId": "97146b26-5b66-4704-839c-7e334a478892"
      },
      "execution_count": 2,
      "outputs": [
        {
          "output_type": "stream",
          "name": "stdout",
          "text": [
            "Sample Mean: 50.08888888888889\n",
            "Z-statistic: 0.9940271559503017\n",
            "p-value: 0.3202096468890012\n"
          ]
        }
      ]
    },
    {
      "cell_type": "markdown",
      "source": [
        "**Interpretation:**\n",
        "\n",
        "If the p-value is less than 0.05, we reject the null hypothesis that the mean is 50. Otherwise, we keep it. In this case, the p-value will be greater than 0.05, so we conclude that the sample mean is not significantly different from 50."
      ],
      "metadata": {
        "id": "16G6Pq-R8My8"
      }
    },
    {
      "cell_type": "markdown",
      "source": [
        "**Question 8: Write a Python script to simulate data from a normal distribution and calculate the 95% confidence interval for its mean. Plot the data using Matplotlib. ?**"
      ],
      "metadata": {
        "id": "ax2fOQsvkwhe"
      }
    },
    {
      "cell_type": "code",
      "source": [
        "import numpy as np\n",
        "import matplotlib.pyplot as plt\n",
        "from scipy import stats\n",
        "\n",
        "# Generate data\n",
        "data = np.random.normal(loc=50, scale=5, size=100)\n",
        "\n",
        "# Calculate mean and standard error\n",
        "mean = np.mean(data)\n",
        "sem = stats.sem(data)\n",
        "\n",
        "# Confidence interval (95%)\n",
        "conf_interval = stats.t.interval(0.95, len(data)-1, loc=mean, scale=sem)\n",
        "\n",
        "print(\"Mean:\", mean)\n",
        "print(\"95% Confidence Interval:\", conf_interval)\n",
        "\n",
        "# Plot data\n",
        "plt.hist(data, bins=15, edgecolor='black')\n",
        "plt.axvline(mean, color='red', linestyle='dashed', linewidth=2, label='Mean')\n",
        "plt.title(\"Normal Distribution Data with Mean\")\n",
        "plt.xlabel(\"Value\")\n",
        "plt.ylabel(\"Frequency\")\n",
        "plt.legend()\n",
        "plt.show()\n"
      ],
      "metadata": {
        "colab": {
          "base_uri": "https://localhost:8080/",
          "height": 507
        },
        "id": "pjIlaSpR80UJ",
        "outputId": "1279f78b-d114-467e-dad3-3170cf7c458e"
      },
      "execution_count": 3,
      "outputs": [
        {
          "output_type": "stream",
          "name": "stdout",
          "text": [
            "Mean: 49.409389830160166\n",
            "95% Confidence Interval: (np.float64(48.531635003310164), np.float64(50.28714465701017))\n"
          ]
        },
        {
          "output_type": "display_data",
          "data": {
            "text/plain": [
              "<Figure size 640x480 with 1 Axes>"
            ],
            "image/png": "[encoded data removed]"
          },
          "metadata": {}
        }
      ]
    },
    {
      "cell_type": "markdown",
      "source": [
        "**This code simulates normal data, calculates the 95% confidence interval for the mean, and shows a histogram with the mean marked.**"
      ],
      "metadata": {
        "id": "tl8ZWsYF84eU"
      }
    },
    {
      "cell_type": "markdown",
      "source": [
        "**Question 9: Write a Python function to calculate the Z-scores from a dataset and visualize the standardized data using a histogram. Explain what the Z-scores represent in terms of standard deviations from the mean ?**"
      ],
      "metadata": {
        "id": "OUlmN7OWk1B0"
      }
    },
    {
      "cell_type": "code",
      "source": [
        "import numpy as np\n",
        "import matplotlib.pyplot as plt\n",
        "from scipy import stats\n",
        "\n",
        "def calculate_z_scores(data):\n",
        "    z_scores = stats.zscore(data)\n",
        "\n",
        "    # Plot histogram\n",
        "    plt.hist(z_scores, bins=15, edgecolor='black')\n",
        "    plt.title(\"Histogram of Z-scores\")\n",
        "    plt.xlabel(\"Z-score\")\n",
        "    plt.ylabel(\"Frequency\")\n",
        "    plt.show()\n",
        "\n",
        "    return z_scores\n",
        "\n",
        "# Example data\n",
        "data = np.random.normal(loc=50, scale=10, size=100)\n",
        "z_scores = calculate_z_scores(data)\n",
        "print(\"First 10 Z-scores:\", z_scores[:10])\n"
      ],
      "metadata": {
        "colab": {
          "base_uri": "https://localhost:8080/",
          "height": 507
        },
        "id": "vK2ZZqjS88cy",
        "outputId": "4f826b6e-9123-4447-aa94-b652b9bc34f1"
      },
      "execution_count": 4,
      "outputs": [
        {
          "output_type": "display_data",
          "data": {
            "text/plain": [
              "<Figure size 640x480 with 1 Axes>"
            ],
            "image/png": "[encoded data removed]"
          },
          "metadata": {}
        },
        {
          "output_type": "stream",
          "name": "stdout",
          "text": [
            "First 10 Z-scores: [-1.07615551 -0.56082168 -0.3411102  -1.00369975 -1.15058245 -0.36718761\n",
            " -1.48412288  1.76348366 -2.1774776   0.5637374 ]\n"
          ]
        }
      ]
    },
    {
      "cell_type": "markdown",
      "source": [
        "**Summary:**\n",
        "\n",
        "**Z-scores show how far a value is from the mean in terms of standard deviations. A Z-score of 0 means the value is equal to the mean, a Z-score of +1 means it is one standard deviation above the mean, and -1 means one standard deviation below the mean. This helps us compare data points even if they come from different scales.**"
      ],
      "metadata": {
        "id": "Pms41jzK8-Vz"
      }
    }
  ]
}