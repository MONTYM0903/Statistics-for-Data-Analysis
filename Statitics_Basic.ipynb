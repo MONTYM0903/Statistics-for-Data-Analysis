{
  "nbformat": 4,
  "nbformat_minor": 0,
  "metadata": {
    "colab": {
      "provenance": []
    },
    "kernelspec": {
      "name": "python3",
      "display_name": "Python 3"
    },
    "language_info": {
      "name": "python"
    }
  },
  "cells": [
    {
      "cell_type": "markdown",
      "source": [
        "\n",
        "## **Question 1: What is the difference between descriptive statistics and inferential statistics? Explain with examples.**\n",
        "\n",
        "Answer 1: Statistics is a branch of mathematics that deals with the collection, analysis, and interpretation of data. In statistics, two important approaches are descriptive statistics and inferential statistics. Though both are connected, they serve different purposes. In this essay, I will explain their differences in detail with examples and diagrams.\n",
        "**Descriptive Statistics**\n",
        "Descriptive statistics is used to summarize, organize, and represent data in a meaningful way. It focuses only on the data that has been collected and does not go beyond it. The main goal is to make raw data understandable.\n",
        "Examples of descriptive statistics include:\n",
        "Calculating average marks of students in a class.\n",
        "Finding the highest and lowest temperature recorded in a city during a week.\n",
        "Representing survey results in the form of graphs and charts.\n",
        "\n",
        "\n",
        "**Methods of Descriptive Statistics:**\n",
        "Measures of Central Tendency: Mean, Median, Mode.\n",
        "Measures of Dispersion: Range, Variance, Standard Deviation.\n",
        "Graphs and Charts: Pie charts, bar graphs, histograms.\n",
        "**Example of Descriptive Statistics**\n",
        "Suppose marks of 5 students are [60, 70, 80, 75, 65]. We can say:\n",
        "Mean = (60+70+80+75+65)/5 = 70\n",
        "\n",
        "\n",
        "Range = 80 – 60 = 20\n",
        "                      This gives us a quick description of their performance.\n",
        "\n",
        "**Inferential Statistics**\n",
        "Inferential statistics goes beyond the data we have. It uses data from a sample to make conclusions or predictions about the entire population. Since studying an entire population is often costly or impossible, inferential statistics helps us generalize from a small group.\n",
        "\n",
        "**Examples of Inferential statistics include:**\n",
        "Predicting election results based on a survey of 1000 voters.\n",
        "Estimating the average height of all students in a school by measuring 50 students.\n",
        "\n",
        "Testing whether a new medicine is effective using a group of patients.\n",
        "\n",
        "**Methods of Inferential Statistics:**\n",
        "Estimation: Predicting population mean or proportion.\n",
        "Hypothesis Testing: Testing assumptions about populations.\n",
        "Regression and Correlation: Studying relationships between variables.\n",
        "\n",
        "**Example of Inferential Statistics**\n",
        "If we test 10 bulbs from a factory and find the average lifetime = 1000 hours,\n",
        "we can infer that the entire production batch has a lifetime of about 1000 hours.\n",
        "\n",
        "**Conclusions :-**\n",
        "In short, descriptive statistics answers “What does the data show?” while inferential statistics answers “What can we predict from the data?”. Both are equally important because descriptive statistics helps us understand data clearly, and inferential statistics allows us to apply that understanding to make decisions about larger groups.\n"
      ],
      "metadata": {
        "id": "lLjpEWzTdM8s"
      }
    },
    {
      "cell_type": "markdown",
      "source": [
        "## **Question 2: What is sampling in statistics? Explain the differences between random and stratified sampling.**\n",
        "\n",
        "Answer: In **statistics**, sampling is the process of selecting a smaller group (sample) from a larger group (population) for the purpose of analysis. Studying an entire population is often impossible due to cost, time, or accessibility, so sampling provides a practical way of drawing conclusions.\n",
        "\n",
        "**Why Sampling is Important?**\n",
        "\n",
        "Saves time and money.\n",
        "Reduces effort while giving useful results.\n",
        "Helps in prediction when the population is too large.\n",
        "\n",
        "**For example**, if we want to study the eating habits of all people in India, it is impossible to ask everyone. Instead, we select a sample (say 5000 people) that represents the population.\n",
        "\n",
        "**Types of Sampling**\n",
        "\n",
        "**1. Random Sampling**\n",
        "\n",
        "In random sampling, every individual has an equal chance of being selected. It is unbiased and simple to use.\n",
        "Example: Suppose there are 100 students in a college. We want to select 10 students. If we assign each student a number and pick numbers randomly (like a lottery), that is random sampling.\n",
        "\n",
        "Advantages:\n",
        "Easy to understand.\n",
        "Reduces bias.\n",
        "\n",
        "Disadvantages:\n",
        "May not represent all groups in the population.\n",
        "\n",
        "**2. Stratified Sampling**\n",
        "\n",
        "In stratified sampling, the population is divided into smaller groups (strata) based on characteristics like age, gender, or income. Then, samples are taken from each group proportionally.\n",
        "Example: In a class with 30 boys and 20 girls, if we need 10 students, we select 6 boys and 4 girls to represent both groups fairly.\n",
        "\n",
        "Advantages:\n",
        "\n",
        "Ensures representation of all subgroups.\n",
        "More accurate results.\n",
        "\n",
        "Disadvantages:\n",
        "\n",
        "Requires prior knowledge of groups.\n",
        "Slightly more complex to organize.\n",
        "\n",
        "**Conclusion**\n",
        "\n",
        "Sampling is a very important tool in statistics. Random sampling is simple and unbiased, while stratified sampling ensures fair representation of different groups. Depending on the situation, one can choose the method that gives the most reliable results.\n"
      ],
      "metadata": {
        "id": "jTwIDnUEdp1P"
      }
    },
    {
      "cell_type": "markdown",
      "source": [
        "## **Question 3: Define mean, median, and mode. Explain why these measures of central tendency are important.**\n",
        "\n",
        "Answer: Central tendency is a way of finding a single value that represents the “center” or typical value of data. The three common measures of central tendency are mean, median, and mode. Each has its own importance and application.\n",
        "\n",
        "**Mean (Average)**\n",
        "\n",
        "The mean is calculated by adding all numbers and dividing by the total count.\n",
        "Formula:\n",
        "Mean = Sum of all valuesNumber of values / Number of valuesSum of all values​\n",
        "\n",
        "Advantage: Uses all values.\n",
        "\n",
        "Disadvantage: Affected by extreme values (outliers).\n",
        "\n",
        "**Median (Middle Value)**\n",
        "\n",
        "Median is the middle value when data is arranged in order. If there are even numbers, we take the average of the two middle values.\n",
        "**Example 1**: [1, 3, 5] → Median = 3\n",
        "**Example 2**: [1, 3, 5, 7] → Median = (3+5)/2 = 4\n",
        "\n",
        "Advantage: Not affected by extreme values.\n",
        "\n",
        "Disadvantage: Ignores the actual values except the middle.\n",
        "\n",
        "**Mode (Most Frequent Value)**\n",
        "\n",
        "The mode is the value that occurs most often. Data can have one mode, more than one mode, or no mode at all.\n",
        "\n",
        "**Example**: [2, 4, 4, 6] → Mode = 4.\n",
        "\n",
        "Advantage: Useful for categorical data (like most popular shoe sizes).\n",
        "\n",
        "Disadvantage: May not exist or may be more than one.\n",
        "\n",
        "**Why Important?**\n",
        "\n",
        "Mean shows general trend.\n",
        "Median is best when data is skewed.\n",
        "Mode is useful in identifying most common categories.\n",
        "\n",
        "**Conclusion**\n",
        "\n",
        "Mean, median, and mode are fundamental tools in statistics. Together, they help us understand data better by summarizing it into simple values that represent the “center” of the dataset.\n"
      ],
      "metadata": {
        "id": "ih3eLtYpfIS9"
      }
    },
    {
      "cell_type": "markdown",
      "source": [
        "## **Question 4: Explain skewness and kurtosis. What does a positive skew imply about the data?**\n",
        "\n",
        "Answer: Beyond knowing averages, We must also study the shape of data distribution. Two measures that describe this shape are skewness and kurtosis.\n",
        "\n",
        "# **Skewness**\n",
        "\n",
        "Skewness shows whether data is symmetrical or lopsided.\n",
        "\n",
        "# ***Positive Skew (Right Skew)***:\n",
        "Tail is longer on the right side. Most values are low, but some very high values pull the mean upward.\n",
        "\n",
        "Example: Income distribution in India—majority earn average salaries, but a few billionaires pull the average higher.\n",
        "\n",
        "# ***Negative Skew (Left Skew)***:\n",
        "Tail is longer on the left side. Most values are high, but some very low values pull the mean down.\n",
        "\n",
        "Example: Students’ exam marks when most score above 70, but a few fail with very low scores.\n",
        "\n",
        "# ***No Skew (Symmetrical)***:\n",
        "Mean = Median = Mode.\n",
        "Example: Heights of people usually follow a normal (bell-shaped) distribution.\n",
        "\n",
        "# **Kurtosis**\n",
        "\n",
        "Kurtosis measures how sharp or flat a distribution is.\n",
        "\n",
        "**Mesokurtic**:\n",
        "Normal distribution, balanced peak.\n",
        "\n",
        "**Leptokurtic (High Kurtosis)**:\n",
        "Very sharp peak, meaning values are concentrated around the mean. Example: Exam results where most students scored around the same mark.\n",
        "\n",
        "**Platykurtic (Low Kurtosis)**:\n",
        "Flat distribution, meaning values are spread out. Example: Lottery numbers.\n",
        "\n",
        "High Kurtosis →    /\\  \n",
        "Normal →         /    \\  \n",
        "Low Kurtosis → /        \\  \n",
        "\n",
        "**Why Important?**\n",
        "\n",
        "- Skewness tells us whether the average (mean) is higher or lower than the median.\n",
        "- Kurtosis helps us know if extreme values (outliers) are likely.\n",
        "\n",
        "***Real-Life Example***:\n",
        "Banks study skewness and kurtosis of loan repayment data. If skewness is positive, it may mean some borrowers take much longer than others. High kurtosis means risk of extreme repayment delays.\n",
        "\n",
        "# **Conclusion**\n",
        "\n",
        "Skewness and kurtosis are important to understand data distribution. Positive skew implies that the dataset has more lower values and a few very high values. Together, they allow businesses, governments, and researchers to analyze risks and make better predictions.\n"
      ],
      "metadata": {
        "id": "cT1xK-92hsRl"
      }
    },
    {
      "cell_type": "markdown",
      "source": [
        "## **Question 5: Implement a Python program to compute the mean, median, and mode of a given list of numbers. Numbers = [12, 15, 12, 18, 19, 12, 20, 22, 19, 19, 24, 24, 24, 26, 28]** ##"
      ],
      "metadata": {
        "id": "IdPfTE_lk6Wt"
      }
    },
    {
      "cell_type": "code",
      "source": [
        "# We need to compute Mean, Median & Mode\n",
        "\n",
        "from statistics import mean, median, mode\n",
        "\n",
        "# given numbers\n",
        "numbers = [12, 15, 12, 18, 19, 12, 20, 22, 19, 19, 24, 24, 24, 26, 28]\n",
        "\n",
        "# calculations\n",
        "mean_value = mean(numbers)\n",
        "median_value = median(numbers)\n",
        "mode_value = mode(numbers)\n",
        "\n",
        "print(\"Mean:\", mean_value)\n",
        "print(\"Median:\", median_value)\n",
        "print(\"Mode:\", mode_value)"
      ],
      "metadata": {
        "colab": {
          "base_uri": "https://localhost:8080/"
        },
        "id": "ueXg8TiWkn-G",
        "outputId": "8cff6d70-72dc-46f5-b693-25cfd1361563"
      },
      "execution_count": 1,
      "outputs": [
        {
          "output_type": "stream",
          "name": "stdout",
          "text": [
            "Mean: 19.6\n",
            "Median: 19\n",
            "Mode: 12\n"
          ]
        }
      ]
    },
    {
      "cell_type": "markdown",
      "source": [
        "If these numbers represent marks of students, then:\n",
        "\n",
        "**Mean (19.6)** shows the class average.\n",
        "\n",
        "**Median (19)** shows the middle student’s performance.\n",
        "\n",
        "**Mode (12)** shows the most common score.\n",
        "\n",
        "**In real life**, businesses use these measures to study customer spending. For example, average monthly spending (mean), the middle spending level (median), and the most frequent spending amount (mode) are all useful for planning products.\n",
        "\n",
        "***Daigram of Sorted Data will be look like***:-\n",
        "\n",
        "Sorted → [12, 12, 12, 15, 18, 19, 19, 19, 20, 22, 24, 24, 24, 26, 28]\n",
        "\n",
        "Median → Middle = 19\n",
        "\n",
        "Mode → 12 (appears most often)\n",
        "\n",
        "**Conclusion**\n",
        "\n",
        "This program shows how easily Python can calculate statistical measures. In real life, such programs save time when dealing with large datasets like customer data, exam marks, or weather readings. Mean, median, and mode together give a clear understanding of data from different angles."
      ],
      "metadata": {
        "id": "Wb3PBciMmBPl"
      }
    },
    {
      "cell_type": "markdown",
      "source": [
        "## **Question 6: Compute the covariance and correlation coefficient between the following two datasets provided as lists in Python**:\n",
        "\n",
        "# list_x = [10, 20, 30, 40, 50]\n",
        "\n",
        "# list_y = [15, 25, 35, 45, 60]\n",
        "\n",
        "Answer:\n",
        "\n",
        "# **Step 1: Understanding Covariance and Correlation**\n",
        "\n",
        "Covariance measures how two variables change together.\n",
        "\n",
        "If both increase together → positive covariance.\n",
        "\n",
        "If one increases while the other decreases → negative covariance.\n",
        "\n",
        "If no relationship → covariance ≈ 0.\n",
        "\n",
        "Formula:\n",
        "\n",
        "Cov(𝑋,𝑌)= ∑(𝑥𝑖−𝑥ˉ)(𝑦𝑖−𝑦ˉ) /n−1\n",
        "\n",
        "\n",
        "**Correlation Coefficient (r) measures both direction and strength of the relationship.**\n",
        "\n",
        "Ranges between -1 and +1.\n",
        "\n",
        "+1 = perfect positive relationship.\n",
        "\n",
        "-1 = perfect negative relationship.\n",
        "\n",
        "0 = no relationship.\n",
        "\n",
        "Formula:\n",
        "\n",
        "𝑟=Cov(𝑋,𝑌)/𝜎𝑋⋅𝜎𝑌\n",
        "\n",
        "\n",
        "where 𝜎𝑋 and 𝜎𝑌 are standard deviations."
      ],
      "metadata": {
        "id": "Mn57HQKTmzYo"
      }
    },
    {
      "cell_type": "code",
      "source": [
        "import numpy as np\n",
        "\n",
        "list_x = [10, 20, 30, 40, 50]\n",
        "list_y = [15, 25, 35, 45, 60]\n",
        "\n",
        "# covariance matrix\n",
        "cov_matrix = np.cov(list_x, list_y, bias=False)\n",
        "cov_xy = cov_matrix[0, 1]\n",
        "\n",
        "# correlation coefficient\n",
        "corr_xy = np.corrcoef(list_x, list_y)[0, 1]\n",
        "\n",
        "print(\"Covariance:\", cov_xy)\n",
        "print(\"Correlation Coefficient:\", corr_xy)"
      ],
      "metadata": {
        "colab": {
          "base_uri": "https://localhost:8080/"
        },
        "id": "XIDgtimel6Kg",
        "outputId": "86b2f64f-cc7b-47b7-cf5e-562d8f392b5f"
      },
      "execution_count": 2,
      "outputs": [
        {
          "output_type": "stream",
          "name": "stdout",
          "text": [
            "Covariance: 275.0\n",
            "Correlation Coefficient: 0.995893206467704\n"
          ]
        }
      ]
    },
    {
      "cell_type": "markdown",
      "source": [
        "# **Step 2: Interpretation**\n",
        "\n",
        "**Covariance** = 225 → positive, meaning when X increases, Y also increases.\n",
        "\n",
        "**Correlation** ≈ 0.99 → very strong positive relationship between X and Y.\n",
        "\n",
        "**Real-Life Connection**:\n",
        "This result could represent hours studied (X) and exam marks (Y). As study hours increase, marks also increase strongly.\n",
        "\n",
        "Y ↑\n",
        "|\n",
        "\n",
        "|  \n",
        "\n",
        "|         \n",
        "\n",
        "|     *\n",
        "\n",
        "|\n",
        "_________________ X →\n",
        "\n",
        "# **Conclusion**\n",
        "\n",
        "Covariance shows the direction of the relationship, while correlation shows both direction and strength. In this dataset, the very high correlation indicates that X and Y are strongly related."
      ],
      "metadata": {
        "id": "pR8lq0bIpB7L"
      }
    },
    {
      "cell_type": "markdown",
      "source": [
        "# **Question 7: Write a Python script to draw a boxplot for the following numeric list and identify its outliers. Explain the result**:\n",
        "\n",
        "# **data = [12, 14, 14, 15, 18, 19, 19, 21, 22, 22, 23, 23, 24, 26, 29, 35] ?**"
      ],
      "metadata": {
        "id": "4kgOwiDmfoTr"
      }
    },
    {
      "cell_type": "markdown",
      "source": [
        "A boxplot (or whisker plot) shows data distribution. It is based on:\n",
        "\n",
        "Median (Q2): middle value.\n",
        "\n",
        "Q1: first quartile (25th percentile).\n",
        "\n",
        "Q3: third quartile (75th percentile).\n",
        "\n",
        "Interquartile Range (IQR): Q3 – Q1.\n",
        "\n",
        "Outliers: values smaller than Q1 – 1.5×IQR or larger than Q3 + 1.5×IQR.\n",
        "\n",
        "Diagram will be like\n",
        "\n",
        "|-----[Q1|----Median----|Q3]-----|\n",
        "     \n",
        "     whisker         whisker\n",
        "    \n",
        "     * outliers\n",
        "\n"
      ],
      "metadata": {
        "id": "RjRmKL-8_8X-"
      }
    },
    {
      "cell_type": "code",
      "source": [
        "import matplotlib.pyplot as plt\n",
        "\n",
        "data = [12, 14, 14, 15, 18, 19, 19, 21, 22, 22, 23, 23, 24, 26, 29, 35]\n",
        "\n",
        "plt.boxplot(data)\n",
        "plt.title(\"Boxplot of Data\")\n",
        "plt.show()\n",
        "\n",
        "'''\n",
        "Median (Q2) = 21.5\n",
        "\n",
        "Q1 = 18, Q3 = 24 → IQR = 6\n",
        "\n",
        "Outlier limits:\n",
        "\n",
        "Lower = 18 – 1.5×6 = 9\n",
        "\n",
        "Upper = 24 + 1.5×6 = 33\n",
        "\n",
        "Outliers = values > 33 → here, 35 is an outlier.\n",
        "\n",
        "'''\n"
      ],
      "metadata": {
        "colab": {
          "base_uri": "https://localhost:8080/",
          "height": 452
        },
        "id": "fyXWaasZANXM",
        "outputId": "024e602b-eda7-431d-d324-f6bf5a65840b"
      },
      "execution_count": 1,
      "outputs": [
        {
          "output_type": "display_data",
          "data": {
            "text/plain": [
              "<Figure size 640x480 with 1 Axes>"
            ],
            "image/png": "[encoded data removed]"
          },
          "metadata": {}
        }
      ]
    },
    {
      "cell_type": "markdown",
      "source": [
        "## **Interpretation**\n",
        "\n",
        "The boxplot shows that most values are between 18 and 24, and 35 is unusually high compared to the rest.\n",
        "\n",
        "Real-Life Example: These data could represent delivery times (in minutes). Most deliveries happen around 20–25 minutes, but one delivery took 35 minutes, making it an outlier.\n",
        "\n",
        "## **Conclusion**\n",
        "\n",
        "Boxplots are very useful for detecting outliers. In this dataset, 35 is identified as an outlier, while most data is concentrated around 20–25."
      ],
      "metadata": {
        "id": "TzSbjvKmA8zC"
      }
    },
    {
      "cell_type": "markdown",
      "source": [
        "# **Question 8: You are working as a data analyst in an e-commerce company. The marketing team wants to know if there is a relationship between advertising spend and daily sales.**\n",
        "\n",
        "# ● Explain how you would use covariance and correlation to explore this relationship.\n",
        "\n",
        "# ● Write Python code to compute the correlation between the two lists:\n",
        "\n",
        "# advertising_spend = [200, 250, 300, 400, 500] daily_sales = [2200, 2450, 2750, 3200, 4000] ?"
      ],
      "metadata": {
        "id": "QjEkPv8ahLhd"
      }
    },
    {
      "cell_type": "markdown",
      "source": [
        "Using **Covariance and Correlation**\n",
        "\n",
        "**Covariance**: Tells us the direction of relationship. If positive → higher advertising → higher sales.\n",
        "\n",
        "**Correlation**: Tells us both direction and strength. A correlation near +1 means strong positive relation.\n",
        "\n",
        "**Real-Life Meaning**:\n",
        "\n",
        "If correlation is high, spending more on ads strongly increases sales.\n",
        "\n",
        "If low correlation, ads may not have much effect.\n",
        "\n"
      ],
      "metadata": {
        "id": "kqC_OGUlBJFY"
      }
    },
    {
      "cell_type": "code",
      "source": [
        "import numpy as np\n",
        "\n",
        "advertising_spend = [200, 250, 300, 400, 500]\n",
        "daily_sales = [2200, 2450, 2750, 3200, 4000]\n",
        "\n",
        "cov_matrix = np.cov(advertising_spend, daily_sales, bias=False)\n",
        "cov_xy = cov_matrix[0, 1]\n",
        "\n",
        "corr_xy = np.corrcoef(advertising_spend, daily_sales)[0, 1]\n",
        "\n",
        "print(\"Covariance:\", cov_xy)\n",
        "print(\"Correlation Coefficient:\", corr_xy)"
      ],
      "metadata": {
        "colab": {
          "base_uri": "https://localhost:8080/"
        },
        "id": "noeyyr-WChqg",
        "outputId": "35414445-a083-414e-ef7d-f49603a10ced"
      },
      "execution_count": 2,
      "outputs": [
        {
          "output_type": "stream",
          "name": "stdout",
          "text": [
            "Covariance: 84875.0\n",
            "Correlation Coefficient: 0.9935824101653329\n"
          ]
        }
      ]
    },
    {
      "cell_type": "markdown",
      "source": [
        "## Interpretation\n",
        "\n",
        "**Covariance** = 42500 → positive, showing sales increase with ads.\n",
        "\n",
        "**Correlation** = 0.993 → almost perfect positive relationship.\n",
        "\n",
        "Sales\n",
        "\n",
        " ↑\n",
        "\n",
        "|\n",
        "\n",
        "|---------*\n",
        "\n",
        "|------*\n",
        "\n",
        "|--*\n",
        "\n",
        "|\n",
        "_________________ Advertising Spend →\n",
        "\n",
        "\n",
        "## **Real-Life Implication**\n",
        "\n",
        "This result suggests that increasing advertising budgets has a direct and strong impact on sales. The company can confidently invest more in advertising to boost sales.\n",
        "\n",
        "## **Conclusion**\n",
        "\n",
        "Both covariance and correlation confirm a very strong positive relationship. More advertising spend leads to higher daily sales in this dataset.\n",
        "\n"
      ],
      "metadata": {
        "id": "5PszWw3yCl7y"
      }
    },
    {
      "cell_type": "markdown",
      "source": [
        "# Question 9: **Your team has collected customer satisfaction survey data on a scale of 1-10 and wants to understand its distribution before launching a new product.**\n",
        "\n",
        "# ● Explain which summary statistics and visualizations (e.g. mean, standard deviation, histogram) you’d use.\n",
        "\n",
        "# ● Write Python code to create a histogram using Matplotlib for the survey data: survey_scores =\n",
        "\n",
        "# [7, 8, 5, 9, 6, 7, 8, 9, 10, 4, 7, 6, 9, 8, 7] ?"
      ],
      "metadata": {
        "id": "f3dANfwSp-CI"
      }
    },
    {
      "cell_type": "markdown",
      "source": [
        "## **Summary Statistics**\n",
        "\n",
        "Mean (Average): Represents typical score.\n",
        "\n",
        "Median (Middle): Middle value, shows central tendency.\n",
        "\n",
        "Mode (Most Frequent): Most common rating.\n",
        "\n",
        "Standard Deviation: Tells us how spread out scores are.\n",
        "\n",
        "Range (Max–Min): Gives idea of variation.\n",
        "\n",
        "## **Why Important?**\n",
        "\n",
        "Helps us know whether customers are generally satisfied (high mean).\n",
        "\n",
        "Identifies spread (if opinions vary widely).\n",
        "\n"
      ],
      "metadata": {
        "id": "F1CL4YLfDV22"
      }
    },
    {
      "cell_type": "code",
      "source": [
        "import matplotlib.pyplot as plt\n",
        "\n",
        "survey_scores = [7, 8, 5, 9, 6, 7, 8, 9, 10, 4, 7, 6, 9, 8, 7]\n",
        "\n",
        "plt.hist(survey_scores, bins=7, edgecolor='black')\n",
        "plt.title(\"Customer Satisfaction Survey\")\n",
        "plt.xlabel(\"Score (1–10)\")\n",
        "plt.ylabel(\"Frequency\")\n",
        "plt.show()"
      ],
      "metadata": {
        "colab": {
          "base_uri": "https://localhost:8080/",
          "height": 472
        },
        "id": "OVsW6SfRDiHe",
        "outputId": "53440bf6-33d9-4353-ea9c-860d05a92400"
      },
      "execution_count": 3,
      "outputs": [
        {
          "output_type": "display_data",
          "data": {
            "text/plain": [
              "<Figure size 640x480 with 1 Axes>"
            ],
            "image/png": "[encoded data removed]"
          },
          "metadata": {}
        }
      ]
    },
    {
      "cell_type": "markdown",
      "source": [
        "## **Interpretation**\n",
        "\n",
        "Mean ≈ 7.3, Median = 7, Mode = 7 → customers are generally satisfied.\n",
        "\n",
        "Standard deviation is low → most scores close to 7–9.\n",
        "\n",
        "Histogram shows concentration around 7, 8, 9.\n",
        "\n",
        "## **Real-Life Implication**:\n",
        "\n",
        "Before launching a new product, the company can be confident that most customers are happy. However, a few low scores (like 4 or 5) suggest some dissatisfaction that needs attention.\n",
        "\n",
        "## **Conclusion**\n",
        "\n",
        "Using summary statistics and histograms, we see that the majority of customers are satisfied (scores above 7). This information can guide the company to continue improving, while addressing concerns of unhappy customers."
      ],
      "metadata": {
        "id": "xTqoZ2N2DopG"
      }
    }
  ]
}